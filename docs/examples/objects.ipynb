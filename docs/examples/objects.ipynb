{
 "metadata": {
  "name": ""
 },
 "nbformat": 3,
 "nbformat_minor": 0,
 "worksheets": [
  {
   "cells": [
    {
     "cell_type": "code",
     "collapsed": false,
     "input": [
      "from IPython.display import display, HTML\n",
      "from bioblend.galaxy.objects import *\n",
      "\n",
      "URL = 'http://orione.crs4.it'\n",
      "API_KEY = 'YOUR_API_KEY_HERE'\n",
      "\n",
      "peek = lambda obj: [_.name for _ in obj]\n",
      "\n",
      "gi = GalaxyInstance(URL, API_KEY)\n",
      "workflows = gi.get_workflows()\n",
      "peek(workflows)"
     ],
     "language": "python",
     "metadata": {},
     "outputs": [
      {
       "metadata": {},
       "output_type": "pyout",
       "prompt_number": 2,
       "text": [
        "[u'W5 - Metagenomics']"
       ]
      }
     ],
     "prompt_number": 2
    },
    {
     "cell_type": "code",
     "collapsed": false,
     "input": [
      "wf = workflows[0]\n",
      "tools = wf.tools()\n",
      "peek(tools)"
     ],
     "language": "python",
     "metadata": {},
     "outputs": [
      {
       "metadata": {},
       "output_type": "pyout",
       "prompt_number": 3,
       "text": [
        "[u'Rename sequences',\n",
        " u'FASTQ to FASTA',\n",
        " u'MetaPhlAn',\n",
        " u'NCBI BLAST+ blastn',\n",
        " u'Krona pie chart',\n",
        " u'Filter',\n",
        " u'Cut',\n",
        " u'Convert',\n",
        " u'Cut',\n",
        " u'Fetch taxonomic representation',\n",
        " u'Find lowest diagnostic rank',\n",
        " u'Filter taxonomy',\n",
        " u'Krona pie chart',\n",
        " u'Summarize taxonomy',\n",
        " u'Draw phylogeny']"
       ]
      }
     ],
     "prompt_number": 3
    },
    {
     "cell_type": "code",
     "collapsed": false,
     "input": [
      "blastn = tools[3]\n",
      "blastn.tool_state"
     ],
     "language": "python",
     "metadata": {},
     "outputs": [
      {
       "metadata": {},
       "output_type": "pyout",
       "prompt_number": 4,
       "text": [
        "{u'__page__': 0,\n",
        " u'__rerun_remap_job_id__': None,\n",
        " u'adv_opts': {u'__current_case__': 1,\n",
        "  u'adv_opts_selector': u'advanced',\n",
        "  u'filter_query': u'True',\n",
        "  u'identity_cutoff': 0.0,\n",
        "  u'max_hits': 0,\n",
        "  u'parse_deflines': u'False',\n",
        "  u'strand': u'-strand both',\n",
        "  u'ungapped': u'True',\n",
        "  u'word_size': 64},\n",
        " u'blast_type': u'megablast',\n",
        " u'db_opts': {u'__current_case__': 0,\n",
        "  u'database': {u'__class__': u'RuntimeValue'},\n",
        "  u'db_opts_selector': u'db',\n",
        "  u'histdb': u'',\n",
        "  u'subject': u''},\n",
        " u'evalue_cutoff': u'1e-05',\n",
        " u'out_format': u'ext',\n",
        " u'query': None}"
       ]
      }
     ],
     "prompt_number": 4
    },
    {
     "cell_type": "code",
     "collapsed": false,
     "input": [
      "db_opts = blastn.tool_state['db_opts'].copy()\n",
      "db_opts"
     ],
     "language": "python",
     "metadata": {},
     "outputs": [
      {
       "metadata": {},
       "output_type": "pyout",
       "prompt_number": 5,
       "text": [
        "{u'__current_case__': 0,\n",
        " u'database': {u'__class__': u'RuntimeValue'},\n",
        " u'db_opts_selector': u'db',\n",
        " u'histdb': u'',\n",
        " u'subject': u''}"
       ]
      }
     ],
     "prompt_number": 5
    },
    {
     "cell_type": "code",
     "collapsed": false,
     "input": [
      "db_opts['database'] = '16SMicrobial-20121109'\n",
      "histories = gi.get_histories()\n",
      "peek(histories)"
     ],
     "language": "python",
     "metadata": {},
     "outputs": [
      {
       "metadata": {},
       "output_type": "pyout",
       "prompt_number": 6,
       "text": [
        "[u'Metagenomics output',\n",
        " u'Metagenomics output',\n",
        " u'Unnamed history',\n",
        " u\"Copy of 'w5 - anterior nares' shared by 'gmauro@crs4.it' (active items only)\",\n",
        " u'Unnamed history',\n",
        " u'Unnamed history']"
       ]
      }
     ],
     "prompt_number": 6
    },
    {
     "cell_type": "code",
     "collapsed": false,
     "input": [
      "hist = [_ for _ in histories if 'w5' in _.name][0]\n",
      "datasets = gi.get_datasets(hist)\n",
      "peek(datasets)"
     ],
     "language": "python",
     "metadata": {},
     "outputs": [
      {
       "metadata": {},
       "output_type": "pyout",
       "prompt_number": 7,
       "text": [
        "[u'SRS015450.denovo_duplicates_marked.trimmed.1.fastq',\n",
        " u'SRS015450.denovo_duplicates_marked.trimmed.2.fastq',\n",
        " u'FASTQ joiner on data 2 and data 1',\n",
        " u'Rename sequences on data 3',\n",
        " u'FASTQ to FASTA on data 4',\n",
        " u'MetaPhlAn on data 5 (rel_ab analysis)',\n",
        " u'BlastOutput',\n",
        " u'Create Krona chart on data 6: HTML',\n",
        " u'Filter on data 7',\n",
        " u'Cut on data 9',\n",
        " u'Convert on data 10',\n",
        " u'Cut on data 11',\n",
        " u'Fetch taxonomic representation on data 12',\n",
        " u'Find lowest diagnostic rank on data 13',\n",
        " u'Filter taxonomy on data 14: taxonomy',\n",
        " u'Filter taxonomy on data 14: log',\n",
        " u'Summarize taxonomy on data 15',\n",
        " u'Draw phylogeny on data 15',\n",
        " u'Create Krona chart on data 15: HTML']"
       ]
      }
     ],
     "prompt_number": 7
    },
    {
     "cell_type": "code",
     "collapsed": false,
     "input": [
      "wf_input = datasets[2]\n",
      "print gi.peek(wf_input, chunk_size=150)"
     ],
     "language": "python",
     "metadata": {},
     "outputs": [
      {
       "output_type": "stream",
       "stream": "stdout",
       "text": [
        "@HWUSI-EAS1605_102894957:7:100:10035:6962\n",
        "ACCGCAATATTGGCGCCGAAGCGGAAACCAAATGCCGCCACACGGGTATGGTCAACCCAGGGG\n"
       ]
      }
     ],
     "prompt_number": 9
    },
    {
     "cell_type": "code",
     "collapsed": false,
     "input": [
      "out_hist_name = 'Metagenomics output'\n",
      "output_ids, out_hist_id = gi.run_workflow(wf, [wf_input], out_hist_name, params={3: {'db_opts': db_opts}})\n",
      "output_ids"
     ],
     "language": "python",
     "metadata": {},
     "outputs": [
      {
       "metadata": {},
       "output_type": "pyout",
       "prompt_number": 10,
       "text": [
        "[u'b800ed06af699013',\n",
        " u'5d97d19c826593ad',\n",
        " u'0f131b0d0d0ab7b7',\n",
        " u'f4e842a0858aef21',\n",
        " u'627f1d84f0aa11c0',\n",
        " u'd61d284b928ad0ea',\n",
        " u'85e6eca29516c840',\n",
        " u'99a6ec5a12fe69cc',\n",
        " u'8e273a62bf230688',\n",
        " u'3a8e1532e7ea91c9',\n",
        " u'40962b4048bf60c3',\n",
        " u'f94b98a82d598cae',\n",
        " u'5c4568207c072e2c',\n",
        " u'b8ca56935445e840',\n",
        " u'05d56af757d45833',\n",
        " u'a5495456506866c4']"
       ]
      }
     ],
     "prompt_number": 10
    },
    {
     "cell_type": "code",
     "collapsed": false,
     "input": [
      "out_hist_id"
     ],
     "language": "python",
     "metadata": {},
     "outputs": [
      {
       "metadata": {},
       "output_type": "pyout",
       "prompt_number": 11,
       "text": [
        "u'd2105e2bf08698ad'"
       ]
      }
     ],
     "prompt_number": 11
    },
    {
     "cell_type": "code",
     "collapsed": false,
     "input": [
      "gi.wait(output_ids, out_hist_id)\n",
      "out_hist = gi.get_history(out_hist_id)\n",
      "out_datasets = [gi.get_history_dataset(out_hist, _) for _ in output_ids]\n",
      "peek(out_datasets)"
     ],
     "language": "python",
     "metadata": {},
     "outputs": [
      {
       "metadata": {},
       "output_type": "pyout",
       "prompt_number": 17,
       "text": [
        "[u'Rename sequences on data 3',\n",
        " u'FASTQ to FASTA on data 1',\n",
        " u'MetaPhlAn on data 2 (rel_ab analysis)',\n",
        " u'BlastOutput',\n",
        " u'Krona pie chart on data 3: HTML',\n",
        " u'Filter on data 4',\n",
        " u'Cut on data 6',\n",
        " u'Convert on data 7',\n",
        " u'Cut on data 8',\n",
        " u'Fetch taxonomic representation on data 9',\n",
        " u'Find lowest diagnostic rank on data 10',\n",
        " u'Filter taxonomy on data 11: taxonomy',\n",
        " u'Filter taxonomy on data 11: log',\n",
        " u'Krona pie chart on data 11: HTML',\n",
        " u'Summarize taxonomy on data 12',\n",
        " u'Draw phylogeny on data 12']"
       ]
      }
     ],
     "prompt_number": 17
    },
    {
     "cell_type": "code",
     "collapsed": false,
     "input": [
      "ds = [_ for _ in out_datasets if 'chart' in _.name][0]\n",
      "res = gi.get_contents(ds)\n",
      "display(HTML(res))"
     ],
     "language": "python",
     "metadata": {},
     "outputs": [
      {
       "html": [
        "<img id=\"hiddenImage\" src=\"http://krona.sourceforge.net/img/hidden.png\" />\n",
        "  <img id=\"loadingImage\" src=\"http://krona.sourceforge.net/img/loading.gif\" />\n",
        "  <img id=\"logo\" src=\"http://krona.sourceforge.net/img/logo.png\" />\n",
        "  <noscript>Javascript must be enabled to view this page.</noscript>\n",
        "  <div>\n",
        "  \n",
        "   \n",
        "    members\n",
        "    magnitude\n",
        "   \n",
        "   \n",
        "    krona\n",
        "   \n",
        "\n",
        " 99.99999\n",
        " \n",
        "  99.99999\n",
        "  \n",
        "   55.94243\n",
        "   \n",
        "    55.94243\n",
        "    \n",
        "     55.94243\n",
        "     \n",
        "      26.19184\n",
        "      \n",
        "       26.19184\n",
        "       \n",
        "        5.84369\n",
        "       \n",
        "       \n",
        "        1.37225\n",
        "       \n",
        "       \n",
        "        0.2068\n",
        "       \n",
        "       \n",
        "        18.7691\n",
        "       \n",
        "      \n",
        "     \n",
        "     \n",
        "      12.10017\n",
        "      \n",
        "       12.10017\n",
        "       \n",
        "        7.41436\n",
        "       \n",
        "       \n",
        "        4.68581\n",
        "       \n",
        "      \n",
        "     \n",
        "     \n",
        "      17.65042\n",
        "      \n",
        "       17.65042\n",
        "       \n",
        "        17.65042\n",
        "       \n",
        "      \n",
        "     \n",
        "    \n",
        "   \n",
        "  \n",
        "  \n",
        "   1.30847\n",
        "   \n",
        "    1.30847\n",
        "    \n",
        "     1.30847\n",
        "     \n",
        "      1.30847\n",
        "      \n",
        "       1.30847\n",
        "       \n",
        "        1.30847\n",
        "       \n",
        "      \n",
        "     \n",
        "    \n",
        "   \n",
        "  \n",
        "  \n",
        "   42.74909\n",
        "   \n",
        "    6.89307\n",
        "    \n",
        "     6.89307\n",
        "     \n",
        "      6.89307\n",
        "      \n",
        "       3.63932\n",
        "       \n",
        "        3.63932\n",
        "       \n",
        "      \n",
        "      \n",
        "       0.20343\n",
        "       \n",
        "        0.20343\n",
        "       \n",
        "      \n",
        "      \n",
        "       1.34108\n",
        "       \n",
        "        1.34108\n",
        "       \n",
        "      \n",
        "      \n",
        "       1.70924\n",
        "      \n",
        "     \n",
        "    \n",
        "   \n",
        "   \n",
        "    35.85602\n",
        "    \n",
        "     0.72095\n",
        "     \n",
        "      0.72095\n",
        "      \n",
        "       0.72095\n",
        "       \n",
        "        0.72095\n",
        "       \n",
        "      \n",
        "     \n",
        "    \n",
        "    \n",
        "     35.13507\n",
        "     \n",
        "      35.13507\n",
        "      \n",
        "       35.13507\n",
        "       \n",
        "        34.98716\n",
        "       \n",
        "       \n",
        "        0.14791\n",
        "       \n",
        "      \n",
        "     \n",
        "    \n",
        "   \n",
        "  \n",
        " \n",
        "\n",
        "  \n",
        "</div>"
       ],
       "metadata": {},
       "output_type": "display_data",
       "text": [
        "<IPython.core.display.HTML at 0x2495b90>"
       ]
      }
     ],
     "prompt_number": 19
    },
    {
     "cell_type": "code",
     "collapsed": false,
     "input": [],
     "language": "python",
     "metadata": {},
     "outputs": []
    }
   ],
   "metadata": {}
  }
 ]
}