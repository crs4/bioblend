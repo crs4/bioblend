{
 "metadata": {
  "name": "bioblend"
 },
 "nbformat": 3,
 "nbformat_minor": 0,
 "worksheets": [
  {
   "cells": [
    {
     "cell_type": "code",
     "collapsed": false,
     "input": "from IPython.display import display, HTML\nfrom bioblend.galaxy.objects import *\n\nURL = 'http://orione.crs4.it'\nAPI_KEY = 'YOUR_API_KEY_HERE'\n\npeek = lambda obj: [_.name for _ in obj]\n\ngi = GalaxyInstance(URL, API_KEY)\nworkflows = gi.get_workflows()\npeek(workflows)",
     "language": "python",
     "metadata": {},
     "outputs": [
      {
       "metadata": {},
       "output_type": "pyout",
       "prompt_number": 22,
       "text": "[u'W5 - Metagenomics']"
      }
     ],
     "prompt_number": 22
    },
    {
     "cell_type": "code",
     "collapsed": false,
     "input": "wf = workflows[0]\ntools = wf.tools()\npeek(tools)",
     "language": "python",
     "metadata": {},
     "outputs": [
      {
       "metadata": {},
       "output_type": "pyout",
       "prompt_number": 4,
       "text": "[u'Rename sequences',\n u'FASTQ to FASTA',\n u'MetaPhlAn',\n u'NCBI BLAST+ blastn',\n u'Create Krona chart',\n u'Filter',\n u'Cut',\n u'Convert',\n u'Cut',\n u'Fetch taxonomic representation',\n u'Find lowest diagnostic rank',\n u'Filter taxonomy',\n u'Summarize taxonomy',\n u'Draw phylogeny',\n u'Create Krona chart']"
      }
     ],
     "prompt_number": 4
    },
    {
     "cell_type": "code",
     "collapsed": false,
     "input": "blastn = tools[3]\nblastn.tool_state",
     "language": "python",
     "metadata": {},
     "outputs": [
      {
       "metadata": {},
       "output_type": "pyout",
       "prompt_number": 5,
       "text": "{u'__page__': 0,\n u'__rerun_remap_job_id__': None,\n u'adv_opts': {u'__current_case__': 1,\n  u'adv_opts_selector': u'advanced',\n  u'filter_query': u'True',\n  u'identity_cutoff': 0.0,\n  u'max_hits': 0,\n  u'parse_deflines': u'False',\n  u'strand': u'-strand both',\n  u'ungapped': u'True',\n  u'word_size': 64},\n u'blast_type': u'megablast',\n u'db_opts': {u'__current_case__': 0,\n  u'database': {u'__class__': u'RuntimeValue'},\n  u'db_opts_selector': u'db',\n  u'histdb': u'',\n  u'subject': u''},\n u'evalue_cutoff': u'1e-05',\n u'out_format': u'ext',\n u'query': None}"
      }
     ],
     "prompt_number": 5
    },
    {
     "cell_type": "code",
     "collapsed": false,
     "input": "db_opts = blastn.tool_state['db_opts'].copy()\ndb_opts",
     "language": "python",
     "metadata": {},
     "outputs": [
      {
       "metadata": {},
       "output_type": "pyout",
       "prompt_number": 6,
       "text": "{u'__current_case__': 0,\n u'database': {u'__class__': u'RuntimeValue'},\n u'db_opts_selector': u'db',\n u'histdb': u'',\n u'subject': u''}"
      }
     ],
     "prompt_number": 6
    },
    {
     "cell_type": "code",
     "collapsed": false,
     "input": "db_opts['database'] = '16SMicrobial-20121109'\nhistories = gi.get_histories()\npeek(histories)",
     "language": "python",
     "metadata": {},
     "outputs": [
      {
       "metadata": {},
       "output_type": "pyout",
       "prompt_number": 7,
       "text": "[u'Unnamed history',\n u\"Copy of 'w5 - anterior nares' shared by 'gmauro@crs4.it' (active items only)\",\n u'Unnamed history',\n u'Unnamed history']"
      }
     ],
     "prompt_number": 7
    },
    {
     "cell_type": "code",
     "collapsed": false,
     "input": "hist = histories[1]\ndatasets = gi.get_datasets(hist)\npeek(datasets)",
     "language": "python",
     "metadata": {},
     "outputs": [
      {
       "metadata": {},
       "output_type": "pyout",
       "prompt_number": 8,
       "text": "[u'SRS015450.denovo_duplicates_marked.trimmed.1.fastq',\n u'SRS015450.denovo_duplicates_marked.trimmed.2.fastq',\n u'FASTQ joiner on data 2 and data 1',\n u'Rename sequences on data 3',\n u'FASTQ to FASTA on data 4',\n u'MetaPhlAn on data 5 (rel_ab analysis)',\n u'BlastOutput',\n u'Create Krona chart on data 6: HTML',\n u'Filter on data 7',\n u'Cut on data 9',\n u'Convert on data 10',\n u'Cut on data 11',\n u'Fetch taxonomic representation on data 12',\n u'Find lowest diagnostic rank on data 13',\n u'Filter taxonomy on data 14: taxonomy',\n u'Filter taxonomy on data 14: log',\n u'Summarize taxonomy on data 15',\n u'Draw phylogeny on data 15',\n u'Create Krona chart on data 15: HTML']"
      }
     ],
     "prompt_number": 8
    },
    {
     "cell_type": "code",
     "collapsed": false,
     "input": "wf_input = datasets[2]\nprint gi.peek(wf_input, hist, chunk_size=150)",
     "language": "python",
     "metadata": {},
     "outputs": [
      {
       "output_type": "stream",
       "stream": "stdout",
       "text": "@HWUSI-EAS1605_102894957:7:100:10035:6962\nACCGCAATATTGGCGCCGAAGCGGAAACCAAATGCCGCCACACGGGTATGGTCAACCCAGGGG\n"
      }
     ],
     "prompt_number": 15
    },
    {
     "cell_type": "code",
     "collapsed": false,
     "input": "out_hist_name = 'Metagenomics output'\noutput_ids, out_hist = gi.run_workflow(wf, [wf_input], out_hist_name, params={3: {'db_opts': db_opts}})",
     "language": "python",
     "metadata": {},
     "outputs": [],
     "prompt_number": 16
    },
    {
     "cell_type": "code",
     "collapsed": false,
     "input": "gi.wait(output_ids, out_hist)",
     "language": "python",
     "metadata": {},
     "outputs": [],
     "prompt_number": 17
    },
    {
     "cell_type": "code",
     "collapsed": false,
     "input": "out_datasets = [gi.get_history_dataset(out_hist, _) for _ in output_ids]\npeek(out_datasets)",
     "language": "python",
     "metadata": {},
     "outputs": [
      {
       "metadata": {},
       "output_type": "pyout",
       "prompt_number": 19,
       "text": "[u'Rename sequences on data 3',\n u'FASTQ to FASTA on data 1',\n u'MetaPhlAn on data 2 (rel_ab analysis)',\n u'BlastOutput',\n u'Create Krona chart on data 3: HTML',\n u'Filter on data 4',\n u'Cut on data 6',\n u'Convert on data 7',\n u'Cut on data 8',\n u'Fetch taxonomic representation on data 9',\n u'Find lowest diagnostic rank on data 10',\n u'Filter taxonomy on data 11: taxonomy',\n u'Filter taxonomy on data 11: log',\n u'Summarize taxonomy on data 12',\n u'Draw phylogeny on data 12',\n u'Create Krona chart on data 12: HTML']"
      }
     ],
     "prompt_number": 19
    },
    {
     "cell_type": "code",
     "collapsed": false,
     "input": "ds = out_datasets[-1]\nres = gi.get_contents(ds, out_hist)\ndisplay(HTML(res))",
     "language": "python",
     "metadata": {},
     "outputs": [
      {
       "html": "<img id=\"hiddenImage\" src=\"http://krona.sourceforge.net/img/hidden.png\" />\n  <img id=\"loadingImage\" src=\"http://krona.sourceforge.net/img/loading.gif\" />\n  <img id=\"logo\" src=\"http://krona.sourceforge.net/img/logo.png\" />\n  <noscript>Javascript must be enabled to view this page.</noscript>\n  <div>\n  \n   \n    members\n    magnitude\n   \n   \n    krona\n   \n\n 88\n \n  88\n  \n   1\n   \n    1\n    \n     1\n     \n      1\n      \n       1\n       \n        1\n       \n      \n     \n    \n   \n  \n  \n   53\n   \n    53\n    \n     53\n     \n      29\n      \n       29\n       \n        3\n       \n       \n        25\n       \n       \n        1\n       \n      \n     \n     \n      10\n      \n       10\n       \n        10\n       \n      \n     \n     \n      2\n      \n       2\n       \n        1\n       \n       \n        1\n       \n      \n     \n     \n      1\n      \n       1\n       \n        1\n       \n      \n     \n     \n      2\n      \n       2\n       \n        2\n       \n      \n     \n     \n      1\n      \n       1\n       \n        1\n       \n      \n     \n     \n      2\n      \n       2\n       \n        2\n       \n      \n     \n     \n      6\n      \n       6\n       \n        2\n       \n       \n        4\n       \n      \n     \n    \n   \n  \n  \n   2\n   \n    2\n    \n     2\n     \n      1\n      \n       1\n       \n        1\n       \n      \n     \n     \n      1\n      \n       1\n       \n        1\n       \n      \n     \n    \n   \n  \n  \n   15\n   \n    1\n    \n     1\n     \n      1\n      \n       1\n       \n        1\n       \n      \n     \n    \n   \n   \n    7\n    \n     7\n     \n      7\n      \n       7\n       \n        7\n       \n      \n     \n    \n   \n   \n    7\n    \n     3\n     \n      3\n      \n       3\n       \n        3\n       \n      \n     \n    \n    \n     4\n     \n      4\n      \n       1\n       \n        1\n       \n      \n      \n       1\n       \n        1\n       \n      \n      \n       1\n       \n        1\n       \n      \n      \n       1\n       \n        1\n       \n      \n     \n    \n   \n  \n  \n   17\n   \n    1\n    \n     1\n     \n      1\n      \n       1\n       \n        1\n       \n      \n     \n    \n   \n   \n    16\n    \n     4\n     \n      4\n      \n       4\n       \n        4\n       \n      \n     \n    \n    \n     1\n     \n      1\n      \n       1\n       \n        1\n       \n      \n     \n    \n    \n     11\n     \n      11\n      \n       1\n       \n        1\n       \n      \n      \n       10\n       \n        10\n       \n      \n     \n    \n   \n  \n \n\n  \n</div>",
       "metadata": {},
       "output_type": "display_data",
       "text": "<IPython.core.display.HTML at 0x228d1d0>"
      }
     ],
     "prompt_number": 21
    },
    {
     "cell_type": "code",
     "collapsed": false,
     "input": "",
     "language": "python",
     "metadata": {},
     "outputs": []
    }
   ],
   "metadata": {}
  }
 ]
}